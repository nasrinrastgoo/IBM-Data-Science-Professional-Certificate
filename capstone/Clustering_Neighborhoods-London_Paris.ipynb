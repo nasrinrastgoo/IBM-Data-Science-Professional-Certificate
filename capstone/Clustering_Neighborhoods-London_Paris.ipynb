{
 "cells": [
  {
   "cell_type": "markdown",
   "metadata": {},
   "source": [
    "# Clustering the Neighborhoods of London and Paris"
   ]
  },
  {
   "cell_type": "markdown",
   "metadata": {},
   "source": [
    "\n",
    "### 1. Introduction\n",
    "\n",
    "London and Paris are quite the popular tourist and vacation destinations for people all around the world. They are diverse and multicultural and offer a wide variety of experiences that is widely sought after. We try to group the neighbourhoods of London and Paris respectively and draw insights to what they look like now.\n",
    "\n",
    "### 2. Business Problem\n",
    "The aim is to help tourists choose their destinations depending on the experiences that the neighbourhoods have to offer and what they would want to have. This also helps people make decisions if they are thinking about migrating to London or Paris or even if they want to relocate neighbourhoods within the city. Our findings will help stakeholders make informed decisions and address any concerns they have including the different kinds of cuisines, provision stores and what the city has to offer."
   ]
  },
  {
   "cell_type": "markdown",
   "metadata": {},
   "source": [
    "### 3. Data\n",
    "We require geographical location data for both London and Paris. Postal codes in each city serve as a starting point. Using Postal codes we use can find out the neighborhoods, boroughs, venues and their most popular venue categories.\n"
   ]
  },
  {
   "cell_type": "markdown",
   "metadata": {},
   "source": [
    "#### A. London\n",
    "\n",
    "We scrape our data from https://en.wikipedia.org/wiki/List_of_areas_of_London\n",
    "on:\n",
    "* borough : Name of Neighbourhood\n",
    "* town : Name of borough\n",
    "* post_code : Postal codes for London.\n",
    "\n",
    "and we use ArcGIS API:\n",
    "\n",
    "* ArcGIS API\n",
    "\n",
    "ArcGIS Online enables you to connect people, locations, and data using interactive maps. Work with smart, data-driven styles and intuitive analysis tools that deliver location intelligence. Share your insights with the world or specific groups.\n",
    "\n",
    "More specifically, we use ArcGIS to get the geo locations of the neighbourhoods of London. The following columns are added to our initial dataset which prepares our data.\n",
    "\n",
    "latitude : Latitude for Neighbourhood\n",
    "longitude : Longitude for Neighbourhood"
   ]
  },
  {
   "cell_type": "markdown",
   "metadata": {},
   "source": [
    "#### B. Paris\n",
    " https://www.data.gouv.fr/fr/datasets/r/e88c6fda-1d09-42a0-a069-606d3259114e\n",
    "\n",
    "The JSON file has data about all the neighbourhoods in France, we limit it to Paris.\n",
    "\n",
    "* postal_code : Postal codes for France\n",
    "* nom_comm : Name of Neighbourhoods in France\n",
    "* nom_dept : Name of the boroughs, equivalent to towns in France\n",
    "* geo_point_2d : Tuple containing the latitude and longitude of the Neighbourhoods."
   ]
  },
  {
   "cell_type": "markdown",
   "metadata": {},
   "source": [
    "##### Foursquare API Data\n",
    "\n",
    "We will need data about different venues in different neighbourhoods of that specific borough. In order to gain that information we will use \"Foursquare\" locational information. Foursquare is a location data provider with information about all manner of venues and events within an area of interest. Such information includes venue names, locations, menus and even photos. As such, the foursquare location platform will be used as the sole data source since all the stated required information can be obtained through the API.\n",
    "\n",
    "After finding the list of neighbourhoods, we then connect to the Foursquare API to gather information about venues inside each and every neighbourhood. For each neighbourhood, we have chosen the radius to be 500 meters.\n",
    "\n",
    "The data retrieved from Foursquare contained information of venues within a specified distance of the longitude and latitude of the postcodes. The information obtained per venue as follows:\n",
    "\n",
    "* Neighbourhood : Name of the Neighbourhood\n",
    "* Neighbourhood Latitude : Latitude of the Neighbourhood\n",
    "* Neighbourhood Longitude : Longitude of the Neighbourhood\n",
    "* Venue : Name of the Venue\n",
    "* Venue Latitude : Latitude of Venue\n",
    "* Venue Longitude : Longitude of Venue\n",
    "* Venue Category : Category of Venue"
   ]
  },
  {
   "cell_type": "code",
   "execution_count": null,
   "metadata": {},
   "outputs": [],
   "source": []
  }
 ],
 "metadata": {
  "kernelspec": {
   "display_name": "Python 3",
   "language": "python",
   "name": "python3"
  },
  "language_info": {
   "codemirror_mode": {
    "name": "ipython",
    "version": 3
   },
   "file_extension": ".py",
   "mimetype": "text/x-python",
   "name": "python",
   "nbconvert_exporter": "python",
   "pygments_lexer": "ipython3",
   "version": "3.8.3"
  }
 },
 "nbformat": 4,
 "nbformat_minor": 4
}
